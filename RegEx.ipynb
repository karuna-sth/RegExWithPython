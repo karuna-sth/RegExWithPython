{
 "cells": [
  {
   "cell_type": "code",
   "execution_count": 1,
   "id": "6bf5ba58",
   "metadata": {},
   "outputs": [],
   "source": [
    "import re"
   ]
  },
  {
   "cell_type": "markdown",
   "id": "ed671787",
   "metadata": {},
   "source": [
    "### re.compile(pattern, flags=0)\n",
    "compile regular expression for given pattern"
   ]
  },
  {
   "cell_type": "code",
   "execution_count": 2,
   "id": "93e04b74",
   "metadata": {},
   "outputs": [],
   "source": [
    "pattern = re.compile(\"you\")"
   ]
  },
  {
   "cell_type": "markdown",
   "id": "90c9399f",
   "metadata": {},
   "source": [
    "## Performing match\n",
    "\n"
   ]
  },
  {
   "cell_type": "markdown",
   "id": "1db66ca2",
   "metadata": {},
   "source": [
    "### match(string, pos, endpos)\n",
    "- checked at only at beginning\n",
    "- pos -> statrt checking from this index (delault 0)\n",
    "- endpos -> checks until endpos (dafault at very large integer)"
   ]
  },
  {
   "cell_type": "code",
   "execution_count": 6,
   "id": "88a928be",
   "metadata": {},
   "outputs": [],
   "source": [
    "match = pattern.match(\"you come here\")"
   ]
  },
  {
   "cell_type": "code",
   "execution_count": 7,
   "id": "7fc064dc",
   "metadata": {},
   "outputs": [
    {
     "data": {
      "text/plain": [
       "(0, 3)"
      ]
     },
     "execution_count": 7,
     "metadata": {},
     "output_type": "execute_result"
    }
   ],
   "source": [
    "match.span()"
   ]
  },
  {
   "cell_type": "code",
   "execution_count": 8,
   "id": "af7626a0",
   "metadata": {},
   "outputs": [],
   "source": [
    "match = pattern.match(\"can you come here?\")"
   ]
  },
  {
   "cell_type": "code",
   "execution_count": 9,
   "id": "413e869c",
   "metadata": {},
   "outputs": [
    {
     "data": {
      "text/plain": [
       "True"
      ]
     },
     "execution_count": 9,
     "metadata": {},
     "output_type": "execute_result"
    }
   ],
   "source": [
    "match == None"
   ]
  },
  {
   "cell_type": "markdown",
   "id": "e3b393a1",
   "metadata": {},
   "source": [
    "#### match is none bcoz its checks for match only at begining and you is not in beginning"
   ]
  },
  {
   "cell_type": "code",
   "execution_count": 10,
   "id": "1d24532e",
   "metadata": {},
   "outputs": [],
   "source": [
    "match = pattern.match(\"can you come here?\", pos=4) # checking starts from 4th index"
   ]
  },
  {
   "cell_type": "code",
   "execution_count": 11,
   "id": "418d6026",
   "metadata": {},
   "outputs": [
    {
     "data": {
      "text/plain": [
       "(4, 7)"
      ]
     },
     "execution_count": 11,
     "metadata": {},
     "output_type": "execute_result"
    }
   ],
   "source": [
    "match.span()"
   ]
  },
  {
   "cell_type": "markdown",
   "id": "62ced2a3",
   "metadata": {},
   "source": [
    "### search(string, pos, endpos)\n",
    "- checks throughout string\n",
    "- pos, endpos same as match in prev."
   ]
  },
  {
   "cell_type": "code",
   "execution_count": 14,
   "id": "7f733260",
   "metadata": {},
   "outputs": [
    {
     "data": {
      "text/plain": [
       "<re.Match object; span=(4, 7), match='you'>"
      ]
     },
     "execution_count": 14,
     "metadata": {},
     "output_type": "execute_result"
    }
   ],
   "source": [
    "match = pattern.search(\"can you come here?\")\n",
    "match"
   ]
  },
  {
   "cell_type": "code",
   "execution_count": 17,
   "id": "0316c9a7",
   "metadata": {},
   "outputs": [
    {
     "data": {
      "text/plain": [
       "(4, 7)"
      ]
     },
     "execution_count": 17,
     "metadata": {},
     "output_type": "execute_result"
    }
   ],
   "source": [
    "match.span()"
   ]
  },
  {
   "cell_type": "code",
   "execution_count": 18,
   "id": "521be948",
   "metadata": {},
   "outputs": [],
   "source": [
    "match = pattern.search(\"can you come here?\" , pos=1)"
   ]
  },
  {
   "cell_type": "code",
   "execution_count": 19,
   "id": "038e57b8",
   "metadata": {},
   "outputs": [
    {
     "data": {
      "text/plain": [
       "(4, 7)"
      ]
     },
     "execution_count": 19,
     "metadata": {},
     "output_type": "execute_result"
    }
   ],
   "source": [
    "match.span()"
   ]
  },
  {
   "cell_type": "markdown",
   "id": "0c24f172",
   "metadata": {},
   "source": [
    "### findall(string, pos, endpos)\n",
    "- find substring where match is found and returns as list\n",
    "- pos, endpos same as match serach"
   ]
  },
  {
   "cell_type": "code",
   "execution_count": 22,
   "id": "f4ef241f",
   "metadata": {},
   "outputs": [
    {
     "data": {
      "text/plain": [
       "['hello', 'hello']"
      ]
     },
     "execution_count": 22,
     "metadata": {},
     "output_type": "execute_result"
    }
   ],
   "source": [
    "pattern = re.compile(\"hello\")\n",
    "pattern.findall(\"hello This is example. hello\")"
   ]
  },
  {
   "cell_type": "code",
   "execution_count": 25,
   "id": "d246ef8e",
   "metadata": {},
   "outputs": [
    {
     "data": {
      "text/plain": [
       "['1', '5', '1', '0']"
      ]
     },
     "execution_count": 25,
     "metadata": {},
     "output_type": "execute_result"
    }
   ],
   "source": [
    "pattern = re.compile(\"\\d\") #\\d pattern for number \n",
    "pattern.findall(\"i have 1 apple and 5 grapes and 10 fingers\")"
   ]
  },
  {
   "cell_type": "code",
   "execution_count": 26,
   "id": "ef7d9729",
   "metadata": {},
   "outputs": [
    {
     "data": {
      "text/plain": [
       "['1', '5', '10']"
      ]
     },
     "execution_count": 26,
     "metadata": {},
     "output_type": "execute_result"
    }
   ],
   "source": [
    "pattern = re.compile(\"\\d+\") # \\d+ pattern for numer more than 1 digits\n",
    "pattern.findall(\"i have 1 apple and 5 grapes and 10 fingers\")"
   ]
  },
  {
   "cell_type": "markdown",
   "id": "46e58b61",
   "metadata": {},
   "source": [
    "### finditer(string, pos, endpos)\n",
    "- find substring where match is found and returns as iterator of match object \n",
    "- pos, endpos same as match serach"
   ]
  },
  {
   "cell_type": "code",
   "execution_count": 27,
   "id": "31c2c531",
   "metadata": {},
   "outputs": [],
   "source": [
    "pattern = re.compile(\"hello\")\n",
    "match_iter = pattern.finditer(\"hello this is example. hello this\")"
   ]
  },
  {
   "cell_type": "code",
   "execution_count": 30,
   "id": "68e3c764",
   "metadata": {},
   "outputs": [
    {
     "data": {
      "text/plain": [
       "callable_iterator"
      ]
     },
     "execution_count": 30,
     "metadata": {},
     "output_type": "execute_result"
    }
   ],
   "source": [
    "type(match_iter)"
   ]
  },
  {
   "cell_type": "code",
   "execution_count": 31,
   "id": "9ac6d536",
   "metadata": {},
   "outputs": [
    {
     "data": {
      "text/plain": [
       "<re.Match object; span=(0, 5), match='hello'>"
      ]
     },
     "execution_count": 31,
     "metadata": {},
     "output_type": "execute_result"
    }
   ],
   "source": [
    "next(match_iter)"
   ]
  },
  {
   "cell_type": "code",
   "execution_count": 32,
   "id": "e513db9a",
   "metadata": {},
   "outputs": [
    {
     "data": {
      "text/plain": [
       "<re.Match object; span=(23, 28), match='hello'>"
      ]
     },
     "execution_count": 32,
     "metadata": {},
     "output_type": "execute_result"
    }
   ],
   "source": [
    "next(match_iter)"
   ]
  },
  {
   "cell_type": "code",
   "execution_count": 33,
   "id": "5890db3d",
   "metadata": {},
   "outputs": [
    {
     "ename": "StopIteration",
     "evalue": "",
     "output_type": "error",
     "traceback": [
      "\u001b[1;31m---------------------------------------------------------------------------\u001b[0m",
      "\u001b[1;31mStopIteration\u001b[0m                             Traceback (most recent call last)",
      "\u001b[1;32m~\\AppData\\Local\\Temp\\ipykernel_16096\\3758289909.py\u001b[0m in \u001b[0;36m<module>\u001b[1;34m\u001b[0m\n\u001b[1;32m----> 1\u001b[1;33m \u001b[0mnext\u001b[0m\u001b[1;33m(\u001b[0m\u001b[0mmatch_iter\u001b[0m\u001b[1;33m)\u001b[0m\u001b[1;33m\u001b[0m\u001b[1;33m\u001b[0m\u001b[0m\n\u001b[0m",
      "\u001b[1;31mStopIteration\u001b[0m: "
     ]
    }
   ],
   "source": [
    "next(match_iter)"
   ]
  },
  {
   "cell_type": "markdown",
   "id": "34fc2c76",
   "metadata": {},
   "source": [
    "#### shows error as no more matches to iterate through\n",
    "#### So How to use finditer?"
   ]
  },
  {
   "cell_type": "code",
   "execution_count": 37,
   "id": "448647b4",
   "metadata": {},
   "outputs": [],
   "source": [
    "pattern = re.compile(\"hello\")\n",
    "match_iter = pattern.finditer(\"hello this is example. hello this\")"
   ]
  },
  {
   "cell_type": "code",
   "execution_count": 38,
   "id": "6076cfb1",
   "metadata": {},
   "outputs": [
    {
     "name": "stdout",
     "output_type": "stream",
     "text": [
      "<re.Match object; span=(0, 5), match='hello'>\n",
      "<re.Match object; span=(23, 28), match='hello'>\n"
     ]
    }
   ],
   "source": [
    "for match in match_iter:\n",
    "    print(match)"
   ]
  },
  {
   "cell_type": "markdown",
   "id": "fb11920f",
   "metadata": {},
   "source": [
    "#### using loop to iterate over all matches"
   ]
  },
  {
   "cell_type": "markdown",
   "id": "ef702aae",
   "metadata": {},
   "source": [
    "## Module Level function\n",
    "- use like this ``` re.match(pattern, string, flags=0) ``` and similarly for **search**, **findall**, **finditer**\n"
   ]
  },
  {
   "cell_type": "code",
   "execution_count": 39,
   "id": "e5bd3064",
   "metadata": {},
   "outputs": [],
   "source": [
    "pattern = \"\\d+\"\n",
    "string = \"I have 2 legs 10 fingers and 1 nose\""
   ]
  },
  {
   "cell_type": "code",
   "execution_count": 46,
   "id": "156afcee",
   "metadata": {},
   "outputs": [],
   "source": [
    "anyvar = re.search(pattern, string)"
   ]
  },
  {
   "cell_type": "code",
   "execution_count": 47,
   "id": "1458762f",
   "metadata": {},
   "outputs": [
    {
     "data": {
      "text/plain": [
       "<re.Match object; span=(7, 8), match='2'>"
      ]
     },
     "execution_count": 47,
     "metadata": {},
     "output_type": "execute_result"
    }
   ],
   "source": [
    "anyvar"
   ]
  },
  {
   "cell_type": "code",
   "execution_count": 48,
   "id": "3853127c",
   "metadata": {},
   "outputs": [
    {
     "data": {
      "text/plain": [
       "['2', '10', '1']"
      ]
     },
     "execution_count": 48,
     "metadata": {},
     "output_type": "execute_result"
    }
   ],
   "source": [
    "re.findall(pattern, string)"
   ]
  },
  {
   "cell_type": "markdown",
   "id": "2fca0d66",
   "metadata": {},
   "source": [
    "## Meta Characters\n",
    "some charcter like ``` $ | + *``` etc are meta characters and has special meaning for regex"
   ]
  },
  {
   "cell_type": "code",
   "execution_count": 49,
   "id": "4cb3e0c8",
   "metadata": {},
   "outputs": [],
   "source": [
    "text = \"i have $20\""
   ]
  },
  {
   "cell_type": "code",
   "execution_count": 51,
   "id": "b68f0403",
   "metadata": {},
   "outputs": [
    {
     "data": {
      "text/plain": [
       "[]"
      ]
     },
     "execution_count": 51,
     "metadata": {},
     "output_type": "execute_result"
    }
   ],
   "source": [
    "re.findall(\"$20\", text)"
   ]
  },
  {
   "cell_type": "markdown",
   "id": "ce1a1fa4",
   "metadata": {},
   "source": [
    "### cannot find as $ is meta charcter so we need to treat it like literal to do that use escape ``` \\ ``` character"
   ]
  },
  {
   "cell_type": "code",
   "execution_count": 53,
   "id": "46008e5d",
   "metadata": {},
   "outputs": [
    {
     "data": {
      "text/plain": [
       "['$20']"
      ]
     },
     "execution_count": 53,
     "metadata": {},
     "output_type": "execute_result"
    }
   ],
   "source": [
    "re.findall(\"\\$20\", text)"
   ]
  },
  {
   "cell_type": "code",
   "execution_count": null,
   "id": "cc64444c",
   "metadata": {},
   "outputs": [],
   "source": []
  }
 ],
 "metadata": {
  "kernelspec": {
   "display_name": "Python 3 (ipykernel)",
   "language": "python",
   "name": "python3"
  },
  "language_info": {
   "codemirror_mode": {
    "name": "ipython",
    "version": 3
   },
   "file_extension": ".py",
   "mimetype": "text/x-python",
   "name": "python",
   "nbconvert_exporter": "python",
   "pygments_lexer": "ipython3",
   "version": "3.9.13"
  }
 },
 "nbformat": 4,
 "nbformat_minor": 5
}
